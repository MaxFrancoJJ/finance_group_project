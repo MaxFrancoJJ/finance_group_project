{
 "cells": [
  {
   "cell_type": "code",
   "execution_count": 1,
   "metadata": {},
   "outputs": [],
   "source": [
    "import numpy as np # linear algebra\n",
    "import pandas as pd # data processing, CSV file I/O (e.g. pd.read_csv)\n",
    "import matplotlib.pyplot as plt\n",
    "import seaborn as sns # Seaborn visualization library\n",
    "from sklearn.model_selection import StratifiedKFold, StratifiedShuffleSplit, train_test_split, RandomizedSearchCV, GridSearchCV\n",
    "sns.set(style=\"darkgrid\")\n",
    "\n",
    "import os\n",
    "\n",
    "%matplotlib inline\n",
    "\n",
    "import gc"
   ]
  },
  {
   "cell_type": "code",
   "execution_count": 2,
   "metadata": {},
   "outputs": [],
   "source": [
    "train = pd.read_csv('Data/train.csv')\n",
    "test = pd.read_csv('Data/test.csv')"
   ]
  },
  {
   "cell_type": "code",
   "execution_count": 3,
   "metadata": {},
   "outputs": [],
   "source": [
    "# Imports for Modeling\n",
    "\n",
    "#from sklearn.preprocessing import Imputer, MinMaxScaler\n",
    "from sklearn.model_selection import KFold, train_test_split\n",
    "from sklearn.metrics import roc_curve, roc_auc_score, auc, confusion_matrix, classification_report\n",
    "from sklearn.linear_model import LogisticRegression"
   ]
  },
  {
   "cell_type": "code",
   "execution_count": 4,
   "metadata": {},
   "outputs": [],
   "source": [
    "# Target variable from the Training Set\n",
    "Target = train['target']"
   ]
  },
  {
   "cell_type": "code",
   "execution_count": 5,
   "metadata": {},
   "outputs": [],
   "source": [
    "# Input dataset for Train and Test \n",
    "train_inp = train.drop(columns = ['target', 'ID_code'])\n",
    "test_inp = test.drop(columns = ['ID_code'])"
   ]
  },
  {
   "cell_type": "code",
   "execution_count": 6,
   "metadata": {},
   "outputs": [],
   "source": [
    "# List of feature names\n",
    "features = list(train_inp.columns)"
   ]
  },
  {
   "cell_type": "code",
   "execution_count": 7,
   "metadata": {},
   "outputs": [],
   "source": [
    "# Split the Train Dataset into training and validation sets for model building. \n",
    "# The training set now has 140K records and validation set has 60K records\n",
    "\n",
    "X_train, X_test, Y_train, Y_test = train_test_split(train_inp, Target, \n",
    "                                                    test_size= 0.3, random_state = 2020)"
   ]
  },
  {
   "cell_type": "markdown",
   "metadata": {},
   "source": [
    "## Model 1"
   ]
  },
  {
   "cell_type": "code",
   "execution_count": null,
   "metadata": {},
   "outputs": [
    {
     "name": "stderr",
     "output_type": "stream",
     "text": [
      "/anaconda3/lib/python3.7/site-packages/sklearn/linear_model/logistic.py:432: FutureWarning: Default solver will be changed to 'lbfgs' in 0.22. Specify a solver to silence this warning.\n",
      "  FutureWarning)\n"
     ]
    }
   ],
   "source": [
    "# Instantiate Classifier: logreg\n",
    "logreg = LogisticRegression()\n",
    "\n",
    "# fit the model\n",
    "\n",
    "logreg.fit(X_train, Y_train)\n",
    "# Predicting values on training itself\n",
    "pred_train_y = logreg.predict(X_train)\n",
    "y_pred = logreg.predict(X_test)\n",
    "\n",
    "\n",
    "target_names = ['class 0', 'class 1']\n",
    "\n",
    "print(classification_report(Y_train, pred_train_y, target_names=target_names))\n",
    "print(classification_report(Y_test,  Y_pred, target_names=target_names))\n",
    "\n",
    "print(pd.DataFrame(confusion_matrix(Y_test, y_pred),\n",
    "                 columns=['pred_class_0', 'pred_class_1'], index=['class_0', 'class_1']))\n",
    "print(roc_auc_score(Y_test, y_pred))\n"
   ]
  },
  {
   "cell_type": "markdown",
   "metadata": {},
   "source": [
    "## Model 2"
   ]
  },
  {
   "cell_type": "code",
   "execution_count": null,
   "metadata": {},
   "outputs": [],
   "source": [
    "# Instantiate Classifier: logreg1\n",
    "logreg2=LogisticRegression(C=0.001, class_weight='balanced')\n",
    "\n",
    "# Fit the training data on this object\n",
    "logreg2.fit(X_train, Y_train)"
   ]
  },
  {
   "cell_type": "code",
   "execution_count": null,
   "metadata": {},
   "outputs": [],
   "source": [
    "# Predicting values on training itself\n",
    "pred_train_y = logreg2.predict_proba(x_train)[:,1]\n",
    "y_pred = logreg2.predict_proba(x_test)[:,1]"
   ]
  },
  {
   "cell_type": "code",
   "execution_count": null,
   "metadata": {},
   "outputs": [],
   "source": [
    "def performance(Y_test, y_pred):\n",
    "    logist_pred_var = [0 if i < 0.5 else 1 for i in y_pred]\n",
    "    print('Confusion Matrix:')\n",
    "    print(confusion_matrix(Y_test, logist_pred_var)) \n",
    "        \n",
    "    #print(classification_report(Y_test, logist_pred)) \n",
    "\n",
    "    fpr, tpr, thresholds = roc_curve(Y_test, y_pred, pos_label=1)\n",
    "    print('AUC:')\n",
    "    print(auc(fpr, tpr))"
   ]
  },
  {
   "cell_type": "code",
   "execution_count": null,
   "metadata": {},
   "outputs": [],
   "source": [
    "performance(Y_test, y_pred)"
   ]
  },
  {
   "cell_type": "code",
   "execution_count": null,
   "metadata": {},
   "outputs": [],
   "source": [
    "# Submission dataframe\n",
    "logist_pred_test = logreg2.predict_proba(test_inp)[:,1]\n",
    "\n",
    "submit = test[['ID_code']]\n",
    "submit['target'] = logist_pred_test\n",
    "\n",
    "submit.head()"
   ]
  },
  {
   "cell_type": "code",
   "execution_count": null,
   "metadata": {},
   "outputs": [],
   "source": [
    "# Create the Submission File using logistic regression model\n",
    "submit.to_csv('log_reg_test.csv', index = False)"
   ]
  },
  {
   "cell_type": "markdown",
   "metadata": {},
   "source": [
    "## Model 3"
   ]
  },
  {
   "cell_type": "code",
   "execution_count": null,
   "metadata": {},
   "outputs": [],
   "source": [
    "# Instantiate Classifier: logreg3\n",
    "logreg3=LogisticRegression(C=1, class_weight='balanced', penalty='l2')\n",
    "\n",
    "# Fit the training data on this object\n",
    "logreg3.fit(X_train, Y_train)"
   ]
  },
  {
   "cell_type": "code",
   "execution_count": null,
   "metadata": {},
   "outputs": [],
   "source": [
    "# Predicting values on training itself\n",
    "pred_train_y3 = logreg3.predict_proba(x_train)[:,1]\n",
    "y_pred3 = logreg3.predict_proba(x_test)[:,1]"
   ]
  },
  {
   "cell_type": "code",
   "execution_count": null,
   "metadata": {},
   "outputs": [],
   "source": [
    "performance(Y_test, y_pred3)"
   ]
  },
  {
   "cell_type": "code",
   "execution_count": null,
   "metadata": {},
   "outputs": [],
   "source": [
    "logreg3"
   ]
  },
  {
   "cell_type": "code",
   "execution_count": null,
   "metadata": {},
   "outputs": [],
   "source": []
  }
 ],
 "metadata": {
  "kernelspec": {
   "display_name": "Python 3",
   "language": "python",
   "name": "python3"
  },
  "language_info": {
   "codemirror_mode": {
    "name": "ipython",
    "version": 3
   },
   "file_extension": ".py",
   "mimetype": "text/x-python",
   "name": "python",
   "nbconvert_exporter": "python",
   "pygments_lexer": "ipython3",
   "version": "3.7.3"
  }
 },
 "nbformat": 4,
 "nbformat_minor": 4
}
