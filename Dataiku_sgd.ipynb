{
 "cells": [
  {
   "cell_type": "markdown",
   "metadata": {},
   "source": [
    "# Predicting target in train"
   ]
  },
  {
   "cell_type": "markdown",
   "metadata": {},
   "source": [
    "### Notebook automatically generated from your model"
   ]
  },
  {
   "cell_type": "markdown",
   "metadata": {},
   "source": [
    "Model SGD (base_line), trained on 2020-01-20 14:41:08."
   ]
  },
  {
   "cell_type": "markdown",
   "metadata": {},
   "source": [
    "#### Generated on 2020-01-21 20:37:04.101235"
   ]
  },
  {
   "cell_type": "markdown",
   "metadata": {},
   "source": [
    "prediction\n",
    "This notebook will reproduce the steps for a BINARY_CLASSIFICATION on  train.\n",
    "The main objective is to predict the variable target"
   ]
  },
  {
   "cell_type": "markdown",
   "metadata": {},
   "source": [
    "#### Warning"
   ]
  },
  {
   "cell_type": "markdown",
   "metadata": {},
   "source": [
    "The goal of this notebook is to provide an easily readable and explainable code that reproduces the main steps\n",
    "of training the model. It is not complete: some of the preprocessing done by the DSS visual machine learning is not\n",
    "replicated in this notebook. This notebook will not give the same results and model performance as the DSS visual machine\n",
    "learning model."
   ]
  },
  {
   "cell_type": "markdown",
   "metadata": {},
   "source": [
    "Let's start with importing the required libs :"
   ]
  },
  {
   "cell_type": "code",
   "execution_count": null,
   "metadata": {},
   "outputs": [],
   "source": [
    "import sys\n",
    "import dataiku\n",
    "import numpy as np\n",
    "import pandas as pd\n",
    "import sklearn as sk\n",
    "import dataiku.core.pandasutils as pdu\n",
    "from dataiku.doctor.preprocessing import PCA\n",
    "from collections import defaultdict, Counter"
   ]
  },
  {
   "cell_type": "markdown",
   "metadata": {},
   "source": [
    "And tune pandas display options:"
   ]
  },
  {
   "cell_type": "code",
   "execution_count": null,
   "metadata": {},
   "outputs": [],
   "source": [
    "pd.set_option('display.width', 3000)\n",
    "pd.set_option('display.max_rows', 200)\n",
    "pd.set_option('display.max_columns', 200)"
   ]
  },
  {
   "cell_type": "markdown",
   "metadata": {},
   "source": [
    "#### Importing base data"
   ]
  },
  {
   "cell_type": "markdown",
   "metadata": {},
   "source": [
    "The first step is to get our machine learning dataset:"
   ]
  },
  {
   "cell_type": "code",
   "execution_count": null,
   "metadata": {},
   "outputs": [],
   "source": [
    "# We apply the preparation that you defined. You should not modify this.\n",
    "preparation_steps = []\n",
    "preparation_output_schema = {u'userModified': False, u'columns': [{u'type': u'string', u'name': u'ID_code'}, {u'type': u'bigint', u'name': u'target'}, {u'type': u'double', u'name': u'var_0'}, {u'type': u'double', u'name': u'var_1'}, {u'type': u'double', u'name': u'var_2'}, {u'type': u'double', u'name': u'var_3'}, {u'type': u'double', u'name': u'var_4'}, {u'type': u'double', u'name': u'var_5'}, {u'type': u'double', u'name': u'var_6'}, {u'type': u'double', u'name': u'var_7'}, {u'type': u'double', u'name': u'var_8'}, {u'type': u'double', u'name': u'var_9'}, {u'type': u'double', u'name': u'var_10'}, {u'type': u'double', u'name': u'var_11'}, {u'type': u'double', u'name': u'var_12'}, {u'type': u'double', u'name': u'var_13'}, {u'type': u'double', u'name': u'var_14'}, {u'type': u'double', u'name': u'var_15'}, {u'type': u'double', u'name': u'var_16'}, {u'type': u'double', u'name': u'var_17'}, {u'type': u'double', u'name': u'var_18'}, {u'type': u'double', u'name': u'var_19'}, {u'type': u'double', u'name': u'var_20'}, {u'type': u'double', u'name': u'var_21'}, {u'type': u'double', u'name': u'var_22'}, {u'type': u'double', u'name': u'var_23'}, {u'type': u'double', u'name': u'var_24'}, {u'type': u'double', u'name': u'var_25'}, {u'type': u'double', u'name': u'var_26'}, {u'type': u'double', u'name': u'var_27'}, {u'type': u'double', u'name': u'var_28'}, {u'type': u'double', u'name': u'var_29'}, {u'type': u'double', u'name': u'var_30'}, {u'type': u'double', u'name': u'var_31'}, {u'type': u'double', u'name': u'var_32'}, {u'type': u'double', u'name': u'var_33'}, {u'type': u'double', u'name': u'var_34'}, {u'type': u'double', u'name': u'var_35'}, {u'type': u'double', u'name': u'var_36'}, {u'type': u'double', u'name': u'var_37'}, {u'type': u'double', u'name': u'var_38'}, {u'type': u'double', u'name': u'var_39'}, {u'type': u'double', u'name': u'var_40'}, {u'type': u'double', u'name': u'var_41'}, {u'type': u'double', u'name': u'var_42'}, {u'type': u'double', u'name': u'var_43'}, {u'type': u'double', u'name': u'var_44'}, {u'type': u'double', u'name': u'var_45'}, {u'type': u'double', u'name': u'var_46'}, {u'type': u'double', u'name': u'var_47'}, {u'type': u'double', u'name': u'var_48'}, {u'type': u'double', u'name': u'var_49'}, {u'type': u'double', u'name': u'var_50'}, {u'type': u'double', u'name': u'var_51'}, {u'type': u'double', u'name': u'var_52'}, {u'type': u'double', u'name': u'var_53'}, {u'type': u'double', u'name': u'var_54'}, {u'type': u'double', u'name': u'var_55'}, {u'type': u'double', u'name': u'var_56'}, {u'type': u'double', u'name': u'var_57'}, {u'type': u'double', u'name': u'var_58'}, {u'type': u'double', u'name': u'var_59'}, {u'type': u'double', u'name': u'var_60'}, {u'type': u'double', u'name': u'var_61'}, {u'type': u'double', u'name': u'var_62'}, {u'type': u'double', u'name': u'var_63'}, {u'type': u'double', u'name': u'var_64'}, {u'type': u'double', u'name': u'var_65'}, {u'type': u'double', u'name': u'var_66'}, {u'type': u'double', u'name': u'var_67'}, {u'type': u'double', u'name': u'var_68'}, {u'type': u'double', u'name': u'var_69'}, {u'type': u'double', u'name': u'var_70'}, {u'type': u'double', u'name': u'var_71'}, {u'type': u'double', u'name': u'var_72'}, {u'type': u'double', u'name': u'var_73'}, {u'type': u'double', u'name': u'var_74'}, {u'type': u'double', u'name': u'var_75'}, {u'type': u'double', u'name': u'var_76'}, {u'type': u'double', u'name': u'var_77'}, {u'type': u'double', u'name': u'var_78'}, {u'type': u'double', u'name': u'var_79'}, {u'type': u'double', u'name': u'var_80'}, {u'type': u'double', u'name': u'var_81'}, {u'type': u'double', u'name': u'var_82'}, {u'type': u'double', u'name': u'var_83'}, {u'type': u'double', u'name': u'var_84'}, {u'type': u'double', u'name': u'var_85'}, {u'type': u'double', u'name': u'var_86'}, {u'type': u'double', u'name': u'var_87'}, {u'type': u'double', u'name': u'var_88'}, {u'type': u'double', u'name': u'var_89'}, {u'type': u'double', u'name': u'var_90'}, {u'type': u'double', u'name': u'var_91'}, {u'type': u'double', u'name': u'var_92'}, {u'type': u'double', u'name': u'var_93'}, {u'type': u'double', u'name': u'var_94'}, {u'type': u'double', u'name': u'var_95'}, {u'type': u'double', u'name': u'var_96'}, {u'type': u'double', u'name': u'var_97'}, {u'type': u'double', u'name': u'var_98'}, {u'type': u'double', u'name': u'var_99'}, {u'type': u'double', u'name': u'var_100'}, {u'type': u'double', u'name': u'var_101'}, {u'type': u'double', u'name': u'var_102'}, {u'type': u'double', u'name': u'var_103'}, {u'type': u'double', u'name': u'var_104'}, {u'type': u'double', u'name': u'var_105'}, {u'type': u'double', u'name': u'var_106'}, {u'type': u'double', u'name': u'var_107'}, {u'type': u'double', u'name': u'var_108'}, {u'type': u'double', u'name': u'var_109'}, {u'type': u'double', u'name': u'var_110'}, {u'type': u'double', u'name': u'var_111'}, {u'type': u'double', u'name': u'var_112'}, {u'type': u'double', u'name': u'var_113'}, {u'type': u'double', u'name': u'var_114'}, {u'type': u'double', u'name': u'var_115'}, {u'type': u'double', u'name': u'var_116'}, {u'type': u'double', u'name': u'var_117'}, {u'type': u'double', u'name': u'var_118'}, {u'type': u'double', u'name': u'var_119'}, {u'type': u'double', u'name': u'var_120'}, {u'type': u'double', u'name': u'var_121'}, {u'type': u'double', u'name': u'var_122'}, {u'type': u'double', u'name': u'var_123'}, {u'type': u'double', u'name': u'var_124'}, {u'type': u'double', u'name': u'var_125'}, {u'type': u'double', u'name': u'var_126'}, {u'type': u'double', u'name': u'var_127'}, {u'type': u'double', u'name': u'var_128'}, {u'type': u'double', u'name': u'var_129'}, {u'type': u'double', u'name': u'var_130'}, {u'type': u'double', u'name': u'var_131'}, {u'type': u'double', u'name': u'var_132'}, {u'type': u'double', u'name': u'var_133'}, {u'type': u'double', u'name': u'var_134'}, {u'type': u'double', u'name': u'var_135'}, {u'type': u'double', u'name': u'var_136'}, {u'type': u'double', u'name': u'var_137'}, {u'type': u'double', u'name': u'var_138'}, {u'type': u'double', u'name': u'var_139'}, {u'type': u'double', u'name': u'var_140'}, {u'type': u'double', u'name': u'var_141'}, {u'type': u'double', u'name': u'var_142'}, {u'type': u'double', u'name': u'var_143'}, {u'type': u'double', u'name': u'var_144'}, {u'type': u'double', u'name': u'var_145'}, {u'type': u'double', u'name': u'var_146'}, {u'type': u'double', u'name': u'var_147'}, {u'type': u'double', u'name': u'var_148'}, {u'type': u'double', u'name': u'var_149'}, {u'type': u'double', u'name': u'var_150'}, {u'type': u'double', u'name': u'var_151'}, {u'type': u'double', u'name': u'var_152'}, {u'type': u'double', u'name': u'var_153'}, {u'type': u'double', u'name': u'var_154'}, {u'type': u'double', u'name': u'var_155'}, {u'type': u'double', u'name': u'var_156'}, {u'type': u'double', u'name': u'var_157'}, {u'type': u'double', u'name': u'var_158'}, {u'type': u'double', u'name': u'var_159'}, {u'type': u'double', u'name': u'var_160'}, {u'type': u'double', u'name': u'var_161'}, {u'type': u'double', u'name': u'var_162'}, {u'type': u'double', u'name': u'var_163'}, {u'type': u'double', u'name': u'var_164'}, {u'type': u'double', u'name': u'var_165'}, {u'type': u'double', u'name': u'var_166'}, {u'type': u'double', u'name': u'var_167'}, {u'type': u'double', u'name': u'var_168'}, {u'type': u'double', u'name': u'var_169'}, {u'type': u'double', u'name': u'var_170'}, {u'type': u'double', u'name': u'var_171'}, {u'type': u'double', u'name': u'var_172'}, {u'type': u'double', u'name': u'var_173'}, {u'type': u'double', u'name': u'var_174'}, {u'type': u'double', u'name': u'var_175'}, {u'type': u'double', u'name': u'var_176'}, {u'type': u'double', u'name': u'var_177'}, {u'type': u'double', u'name': u'var_178'}, {u'type': u'double', u'name': u'var_179'}, {u'type': u'double', u'name': u'var_180'}, {u'type': u'double', u'name': u'var_181'}, {u'type': u'double', u'name': u'var_182'}, {u'type': u'double', u'name': u'var_183'}, {u'type': u'double', u'name': u'var_184'}, {u'type': u'double', u'name': u'var_185'}, {u'type': u'double', u'name': u'var_186'}, {u'type': u'double', u'name': u'var_187'}, {u'type': u'double', u'name': u'var_188'}, {u'type': u'double', u'name': u'var_189'}, {u'type': u'double', u'name': u'var_190'}, {u'type': u'double', u'name': u'var_191'}, {u'type': u'double', u'name': u'var_192'}, {u'type': u'double', u'name': u'var_193'}, {u'type': u'double', u'name': u'var_194'}, {u'type': u'double', u'name': u'var_195'}, {u'type': u'double', u'name': u'var_196'}, {u'type': u'double', u'name': u'var_197'}, {u'type': u'double', u'name': u'var_198'}, {u'type': u'double', u'name': u'var_199'}]}\n",
    "\n",
    "ml_dataset_handle = dataiku.Dataset('train')\n",
    "ml_dataset_handle.set_preparation_steps(preparation_steps, preparation_output_schema)\n",
    "%time ml_dataset = ml_dataset_handle.get_dataframe(limit = 100000)\n",
    "\n",
    "print ('Base data has %i rows and %i columns' % (ml_dataset.shape[0], ml_dataset.shape[1]))\n",
    "# Five first records\",\n",
    "ml_dataset.head(5)"
   ]
  },
  {
   "cell_type": "markdown",
   "metadata": {},
   "source": [
    "#### Initial data management"
   ]
  },
  {
   "cell_type": "markdown",
   "metadata": {},
   "source": [
    "The preprocessing aims at making the dataset compatible with modeling.\n",
    "At the end of this step, we will have a matrix of float numbers, with no missing values.\n",
    "We'll use the features and the preprocessing steps defined in Models.\n",
    "\n",
    "Let's only keep selected features"
   ]
  },
  {
   "cell_type": "code",
   "execution_count": null,
   "metadata": {},
   "outputs": [],
   "source": [
    "ml_dataset = ml_dataset[[u'var_48', u'var_49', u'var_44', u'var_45', u'var_46', u'var_47', u'var_40', u'var_41', u'var_42', u'var_43', u'var_90', u'var_188', u'var_189', u'var_184', u'var_185', u'var_186', u'var_187', u'var_180', u'var_181', u'var_182', u'var_183', u'var_104', u'var_105', u'var_106', u'var_107', u'var_100', u'var_101', u'var_102', u'var_103', u'var_7', u'var_6', u'var_5', u'var_4', u'var_108', u'var_109', u'var_1', u'var_0', u'var_59', u'var_58', u'var_53', u'var_52', u'var_51', u'var_50', u'var_57', u'var_56', u'var_55', u'var_54', u'var_170', u'var_99', u'var_98', u'var_131', u'var_130', u'var_133', u'var_132', u'var_135', u'var_134', u'var_137', u'var_136', u'var_139', u'var_138', u'var_93', u'var_92', u'var_28', u'var_29', u'var_26', u'var_27', u'var_24', u'var_25', u'var_22', u'var_23', u'var_20', u'var_21', u'var_128', u'var_129', u'var_126', u'var_127', u'var_124', u'var_125', u'var_122', u'var_123', u'var_120', u'var_121', u'var_39', u'var_38', u'var_35', u'var_34', u'var_37', u'var_36', u'var_31', u'var_30', u'var_33', u'var_32', u'var_159', u'var_158', u'var_153', u'var_152', u'var_151', u'var_150', u'var_157', u'var_156', u'var_155', u'var_154', u'var_96', u'var_80', u'var_81', u'var_82', u'var_83', u'var_84', u'var_85', u'var_86', u'var_87', u'var_88', u'var_89', u'var_148', u'var_149', u'var_140', u'var_141', u'var_142', u'var_143', u'var_144', u'var_145', u'var_146', u'var_147', u'var_17', u'var_16', u'var_15', u'var_14', u'var_13', u'var_12', u'var_11', u'var_10', u'var_8', u'var_19', u'var_18', u'var_175', u'var_174', u'var_177', u'var_176', u'var_171', u'target', u'var_173', u'var_172', u'var_97', u'var_3', u'var_95', u'var_94', u'var_179', u'var_178', u'var_91', u'var_2', u'var_62', u'var_63', u'var_60', u'var_61', u'var_66', u'var_67', u'var_64', u'var_65', u'var_68', u'var_69', u'var_162', u'var_163', u'var_160', u'var_161', u'var_166', u'var_167', u'var_164', u'var_165', u'var_168', u'var_169', u'var_71', u'var_70', u'var_73', u'var_72', u'var_75', u'var_74', u'var_77', u'var_76', u'var_79', u'var_78', u'var_9', u'var_199', u'var_198', u'var_197', u'var_196', u'var_195', u'var_194', u'var_193', u'var_192', u'var_191', u'var_190', u'var_117', u'var_116', u'var_115', u'var_114', u'var_113', u'var_112', u'var_111', u'var_110', u'var_119', u'var_118']]"
   ]
  },
  {
   "cell_type": "markdown",
   "metadata": {},
   "source": [
    "Let's first coerce categorical columns into unicode, numerical features into floats."
   ]
  },
  {
   "cell_type": "code",
   "execution_count": null,
   "metadata": {},
   "outputs": [],
   "source": [
    "# astype('unicode') does not work as expected\n",
    "\n",
    "def coerce_to_unicode(x):\n",
    "    if sys.version_info < (3, 0):\n",
    "        if isinstance(x, str):\n",
    "            return unicode(x,'utf-8')\n",
    "        else:\n",
    "            return unicode(x)\n",
    "    else:\n",
    "        return str(x)\n",
    "\n",
    "\n",
    "categorical_features = []\n",
    "numerical_features = [u'var_48', u'var_49', u'var_44', u'var_45', u'var_46', u'var_47', u'var_40', u'var_41', u'var_42', u'var_43', u'var_90', u'var_188', u'var_189', u'var_184', u'var_185', u'var_186', u'var_187', u'var_180', u'var_181', u'var_182', u'var_183', u'var_104', u'var_105', u'var_106', u'var_107', u'var_100', u'var_101', u'var_102', u'var_103', u'var_7', u'var_6', u'var_5', u'var_4', u'var_108', u'var_109', u'var_1', u'var_0', u'var_59', u'var_58', u'var_53', u'var_52', u'var_51', u'var_50', u'var_57', u'var_56', u'var_55', u'var_54', u'var_170', u'var_99', u'var_98', u'var_131', u'var_130', u'var_133', u'var_132', u'var_135', u'var_134', u'var_137', u'var_136', u'var_139', u'var_138', u'var_93', u'var_92', u'var_28', u'var_29', u'var_26', u'var_27', u'var_24', u'var_25', u'var_22', u'var_23', u'var_20', u'var_21', u'var_128', u'var_129', u'var_126', u'var_127', u'var_124', u'var_125', u'var_122', u'var_123', u'var_120', u'var_121', u'var_39', u'var_38', u'var_35', u'var_34', u'var_37', u'var_36', u'var_31', u'var_30', u'var_33', u'var_32', u'var_159', u'var_158', u'var_153', u'var_152', u'var_151', u'var_150', u'var_157', u'var_156', u'var_155', u'var_154', u'var_96', u'var_80', u'var_81', u'var_82', u'var_83', u'var_84', u'var_85', u'var_86', u'var_87', u'var_88', u'var_89', u'var_148', u'var_149', u'var_140', u'var_141', u'var_142', u'var_143', u'var_144', u'var_145', u'var_146', u'var_147', u'var_17', u'var_16', u'var_15', u'var_14', u'var_13', u'var_12', u'var_11', u'var_10', u'var_8', u'var_19', u'var_18', u'var_175', u'var_174', u'var_177', u'var_176', u'var_171', u'var_173', u'var_172', u'var_97', u'var_3', u'var_95', u'var_94', u'var_179', u'var_178', u'var_91', u'var_2', u'var_62', u'var_63', u'var_60', u'var_61', u'var_66', u'var_67', u'var_64', u'var_65', u'var_68', u'var_69', u'var_162', u'var_163', u'var_160', u'var_161', u'var_166', u'var_167', u'var_164', u'var_165', u'var_168', u'var_169', u'var_71', u'var_70', u'var_73', u'var_72', u'var_75', u'var_74', u'var_77', u'var_76', u'var_79', u'var_78', u'var_9', u'var_199', u'var_198', u'var_197', u'var_196', u'var_195', u'var_194', u'var_193', u'var_192', u'var_191', u'var_190', u'var_117', u'var_116', u'var_115', u'var_114', u'var_113', u'var_112', u'var_111', u'var_110', u'var_119', u'var_118']\n",
    "text_features = []\n",
    "from dataiku.doctor.utils import datetime_to_epoch\n",
    "for feature in categorical_features:\n",
    "    ml_dataset[feature] = ml_dataset[feature].apply(coerce_to_unicode)\n",
    "for feature in text_features:\n",
    "    ml_dataset[feature] = ml_dataset[feature].apply(coerce_to_unicode)\n",
    "for feature in numerical_features:\n",
    "    if ml_dataset[feature].dtype == np.dtype('M8[ns]'):\n",
    "        ml_dataset[feature] = datetime_to_epoch(ml_dataset[feature])\n",
    "    else:\n",
    "        ml_dataset[feature] = ml_dataset[feature].astype('double')"
   ]
  },
  {
   "cell_type": "markdown",
   "metadata": {},
   "source": [
    "We are now going to handle the target variable and store it in a new variable:"
   ]
  },
  {
   "cell_type": "code",
   "execution_count": null,
   "metadata": {},
   "outputs": [],
   "source": [
    "target_map = {u'1': 1, u'0': 0}\n",
    "ml_dataset['__target__'] = ml_dataset['target'].map(str).map(target_map)\n",
    "del ml_dataset['target']\n",
    "\n",
    "\n",
    "# Remove rows for which the target is unknown.\n",
    "ml_dataset = ml_dataset[~ml_dataset['__target__'].isnull()]"
   ]
  },
  {
   "cell_type": "markdown",
   "metadata": {},
   "source": [
    "#### Cross-validation strategy"
   ]
  },
  {
   "cell_type": "markdown",
   "metadata": {},
   "source": [
    "The dataset needs to be split into 2 new sets, one that will be used for training the model (train set)\n",
    "and another that will be used to test its generalization capability (test set)"
   ]
  },
  {
   "cell_type": "markdown",
   "metadata": {},
   "source": [
    "Important note: your model used a more advanced cross-validation strategy.\n",
    "For the purpose of this notebook, it has been simplified to a random split of\n",
    "a single dataset"
   ]
  },
  {
   "cell_type": "code",
   "execution_count": null,
   "metadata": {},
   "outputs": [],
   "source": [
    "train, test = pdu.split_train_valid(ml_dataset, prop=0.8)\n",
    "print ('Train data has %i rows and %i columns' % (train.shape[0], train.shape[1]))\n",
    "print ('Test data has %i rows and %i columns' % (test.shape[0], test.shape[1]))"
   ]
  },
  {
   "cell_type": "markdown",
   "metadata": {},
   "source": [
    "#### Features preprocessing"
   ]
  },
  {
   "cell_type": "markdown",
   "metadata": {},
   "source": [
    "The first thing to do at the features level is to handle the missing values.\n",
    "Let's reuse the settings defined in the model"
   ]
  },
  {
   "cell_type": "code",
   "execution_count": null,
   "metadata": {},
   "outputs": [],
   "source": [
    "drop_rows_when_missing = []\n",
    "impute_when_missing = [{'impute_with': u'MEAN', 'feature': u'var_48'}, {'impute_with': u'MEAN', 'feature': u'var_49'}, {'impute_with': u'MEAN', 'feature': u'var_44'}, {'impute_with': u'MEAN', 'feature': u'var_45'}, {'impute_with': u'MEAN', 'feature': u'var_46'}, {'impute_with': u'MEAN', 'feature': u'var_47'}, {'impute_with': u'MEAN', 'feature': u'var_40'}, {'impute_with': u'MEAN', 'feature': u'var_41'}, {'impute_with': u'MEAN', 'feature': u'var_42'}, {'impute_with': u'MEAN', 'feature': u'var_43'}, {'impute_with': u'MEAN', 'feature': u'var_90'}, {'impute_with': u'MEAN', 'feature': u'var_188'}, {'impute_with': u'MEAN', 'feature': u'var_189'}, {'impute_with': u'MEAN', 'feature': u'var_184'}, {'impute_with': u'MEAN', 'feature': u'var_185'}, {'impute_with': u'MEAN', 'feature': u'var_186'}, {'impute_with': u'MEAN', 'feature': u'var_187'}, {'impute_with': u'MEAN', 'feature': u'var_180'}, {'impute_with': u'MEAN', 'feature': u'var_181'}, {'impute_with': u'MEAN', 'feature': u'var_182'}, {'impute_with': u'MEAN', 'feature': u'var_183'}, {'impute_with': u'MEAN', 'feature': u'var_104'}, {'impute_with': u'MEAN', 'feature': u'var_105'}, {'impute_with': u'MEAN', 'feature': u'var_106'}, {'impute_with': u'MEAN', 'feature': u'var_107'}, {'impute_with': u'MEAN', 'feature': u'var_100'}, {'impute_with': u'MEAN', 'feature': u'var_101'}, {'impute_with': u'MEAN', 'feature': u'var_102'}, {'impute_with': u'MEAN', 'feature': u'var_103'}, {'impute_with': u'MEAN', 'feature': u'var_7'}, {'impute_with': u'MEAN', 'feature': u'var_6'}, {'impute_with': u'MEAN', 'feature': u'var_5'}, {'impute_with': u'MEAN', 'feature': u'var_4'}, {'impute_with': u'MEAN', 'feature': u'var_108'}, {'impute_with': u'MEAN', 'feature': u'var_109'}, {'impute_with': u'MEAN', 'feature': u'var_1'}, {'impute_with': u'MEAN', 'feature': u'var_0'}, {'impute_with': u'MEAN', 'feature': u'var_59'}, {'impute_with': u'MEAN', 'feature': u'var_58'}, {'impute_with': u'MEAN', 'feature': u'var_53'}, {'impute_with': u'MEAN', 'feature': u'var_52'}, {'impute_with': u'MEAN', 'feature': u'var_51'}, {'impute_with': u'MEAN', 'feature': u'var_50'}, {'impute_with': u'MEAN', 'feature': u'var_57'}, {'impute_with': u'MEAN', 'feature': u'var_56'}, {'impute_with': u'MEAN', 'feature': u'var_55'}, {'impute_with': u'MEAN', 'feature': u'var_54'}, {'impute_with': u'MEAN', 'feature': u'var_170'}, {'impute_with': u'MEAN', 'feature': u'var_99'}, {'impute_with': u'MEAN', 'feature': u'var_98'}, {'impute_with': u'MEAN', 'feature': u'var_131'}, {'impute_with': u'MEAN', 'feature': u'var_130'}, {'impute_with': u'MEAN', 'feature': u'var_133'}, {'impute_with': u'MEAN', 'feature': u'var_132'}, {'impute_with': u'MEAN', 'feature': u'var_135'}, {'impute_with': u'MEAN', 'feature': u'var_134'}, {'impute_with': u'MEAN', 'feature': u'var_137'}, {'impute_with': u'MEAN', 'feature': u'var_136'}, {'impute_with': u'MEAN', 'feature': u'var_139'}, {'impute_with': u'MEAN', 'feature': u'var_138'}, {'impute_with': u'MEAN', 'feature': u'var_93'}, {'impute_with': u'MEAN', 'feature': u'var_92'}, {'impute_with': u'MEAN', 'feature': u'var_28'}, {'impute_with': u'MEAN', 'feature': u'var_29'}, {'impute_with': u'MEAN', 'feature': u'var_26'}, {'impute_with': u'MEAN', 'feature': u'var_27'}, {'impute_with': u'MEAN', 'feature': u'var_24'}, {'impute_with': u'MEAN', 'feature': u'var_25'}, {'impute_with': u'MEAN', 'feature': u'var_22'}, {'impute_with': u'MEAN', 'feature': u'var_23'}, {'impute_with': u'MEAN', 'feature': u'var_20'}, {'impute_with': u'MEAN', 'feature': u'var_21'}, {'impute_with': u'MEAN', 'feature': u'var_128'}, {'impute_with': u'MEAN', 'feature': u'var_129'}, {'impute_with': u'MEAN', 'feature': u'var_126'}, {'impute_with': u'MEAN', 'feature': u'var_127'}, {'impute_with': u'MEAN', 'feature': u'var_124'}, {'impute_with': u'MEAN', 'feature': u'var_125'}, {'impute_with': u'MEAN', 'feature': u'var_122'}, {'impute_with': u'MEAN', 'feature': u'var_123'}, {'impute_with': u'MEAN', 'feature': u'var_120'}, {'impute_with': u'MEAN', 'feature': u'var_121'}, {'impute_with': u'MEAN', 'feature': u'var_39'}, {'impute_with': u'MEAN', 'feature': u'var_38'}, {'impute_with': u'MEAN', 'feature': u'var_35'}, {'impute_with': u'MEAN', 'feature': u'var_34'}, {'impute_with': u'MEAN', 'feature': u'var_37'}, {'impute_with': u'MEAN', 'feature': u'var_36'}, {'impute_with': u'MEAN', 'feature': u'var_31'}, {'impute_with': u'MEAN', 'feature': u'var_30'}, {'impute_with': u'MEAN', 'feature': u'var_33'}, {'impute_with': u'MEAN', 'feature': u'var_32'}, {'impute_with': u'MEAN', 'feature': u'var_159'}, {'impute_with': u'MEAN', 'feature': u'var_158'}, {'impute_with': u'MEAN', 'feature': u'var_153'}, {'impute_with': u'MEAN', 'feature': u'var_152'}, {'impute_with': u'MEAN', 'feature': u'var_151'}, {'impute_with': u'MEAN', 'feature': u'var_150'}, {'impute_with': u'MEAN', 'feature': u'var_157'}, {'impute_with': u'MEAN', 'feature': u'var_156'}, {'impute_with': u'MEAN', 'feature': u'var_155'}, {'impute_with': u'MEAN', 'feature': u'var_154'}, {'impute_with': u'MEAN', 'feature': u'var_96'}, {'impute_with': u'MEAN', 'feature': u'var_80'}, {'impute_with': u'MEAN', 'feature': u'var_81'}, {'impute_with': u'MEAN', 'feature': u'var_82'}, {'impute_with': u'MEAN', 'feature': u'var_83'}, {'impute_with': u'MEAN', 'feature': u'var_84'}, {'impute_with': u'MEAN', 'feature': u'var_85'}, {'impute_with': u'MEAN', 'feature': u'var_86'}, {'impute_with': u'MEAN', 'feature': u'var_87'}, {'impute_with': u'MEAN', 'feature': u'var_88'}, {'impute_with': u'MEAN', 'feature': u'var_89'}, {'impute_with': u'MEAN', 'feature': u'var_148'}, {'impute_with': u'MEAN', 'feature': u'var_149'}, {'impute_with': u'MEAN', 'feature': u'var_140'}, {'impute_with': u'MEAN', 'feature': u'var_141'}, {'impute_with': u'MEAN', 'feature': u'var_142'}, {'impute_with': u'MEAN', 'feature': u'var_143'}, {'impute_with': u'MEAN', 'feature': u'var_144'}, {'impute_with': u'MEAN', 'feature': u'var_145'}, {'impute_with': u'MEAN', 'feature': u'var_146'}, {'impute_with': u'MEAN', 'feature': u'var_147'}, {'impute_with': u'MEAN', 'feature': u'var_17'}, {'impute_with': u'MEAN', 'feature': u'var_16'}, {'impute_with': u'MEAN', 'feature': u'var_15'}, {'impute_with': u'MEAN', 'feature': u'var_14'}, {'impute_with': u'MEAN', 'feature': u'var_13'}, {'impute_with': u'MEAN', 'feature': u'var_12'}, {'impute_with': u'MEAN', 'feature': u'var_11'}, {'impute_with': u'MEAN', 'feature': u'var_10'}, {'impute_with': u'MEAN', 'feature': u'var_8'}, {'impute_with': u'MEAN', 'feature': u'var_19'}, {'impute_with': u'MEAN', 'feature': u'var_18'}, {'impute_with': u'MEAN', 'feature': u'var_175'}, {'impute_with': u'MEAN', 'feature': u'var_174'}, {'impute_with': u'MEAN', 'feature': u'var_177'}, {'impute_with': u'MEAN', 'feature': u'var_176'}, {'impute_with': u'MEAN', 'feature': u'var_171'}, {'impute_with': u'MEAN', 'feature': u'var_173'}, {'impute_with': u'MEAN', 'feature': u'var_172'}, {'impute_with': u'MEAN', 'feature': u'var_97'}, {'impute_with': u'MEAN', 'feature': u'var_3'}, {'impute_with': u'MEAN', 'feature': u'var_95'}, {'impute_with': u'MEAN', 'feature': u'var_94'}, {'impute_with': u'MEAN', 'feature': u'var_179'}, {'impute_with': u'MEAN', 'feature': u'var_178'}, {'impute_with': u'MEAN', 'feature': u'var_91'}, {'impute_with': u'MEAN', 'feature': u'var_2'}, {'impute_with': u'MEAN', 'feature': u'var_62'}, {'impute_with': u'MEAN', 'feature': u'var_63'}, {'impute_with': u'MEAN', 'feature': u'var_60'}, {'impute_with': u'MEAN', 'feature': u'var_61'}, {'impute_with': u'MEAN', 'feature': u'var_66'}, {'impute_with': u'MEAN', 'feature': u'var_67'}, {'impute_with': u'MEAN', 'feature': u'var_64'}, {'impute_with': u'MEAN', 'feature': u'var_65'}, {'impute_with': u'MEAN', 'feature': u'var_68'}, {'impute_with': u'MEAN', 'feature': u'var_69'}, {'impute_with': u'MEAN', 'feature': u'var_162'}, {'impute_with': u'MEAN', 'feature': u'var_163'}, {'impute_with': u'MEAN', 'feature': u'var_160'}, {'impute_with': u'MEAN', 'feature': u'var_161'}, {'impute_with': u'MEAN', 'feature': u'var_166'}, {'impute_with': u'MEAN', 'feature': u'var_167'}, {'impute_with': u'MEAN', 'feature': u'var_164'}, {'impute_with': u'MEAN', 'feature': u'var_165'}, {'impute_with': u'MEAN', 'feature': u'var_168'}, {'impute_with': u'MEAN', 'feature': u'var_169'}, {'impute_with': u'MEAN', 'feature': u'var_71'}, {'impute_with': u'MEAN', 'feature': u'var_70'}, {'impute_with': u'MEAN', 'feature': u'var_73'}, {'impute_with': u'MEAN', 'feature': u'var_72'}, {'impute_with': u'MEAN', 'feature': u'var_75'}, {'impute_with': u'MEAN', 'feature': u'var_74'}, {'impute_with': u'MEAN', 'feature': u'var_77'}, {'impute_with': u'MEAN', 'feature': u'var_76'}, {'impute_with': u'MEAN', 'feature': u'var_79'}, {'impute_with': u'MEAN', 'feature': u'var_78'}, {'impute_with': u'MEAN', 'feature': u'var_9'}, {'impute_with': u'MEAN', 'feature': u'var_199'}, {'impute_with': u'MEAN', 'feature': u'var_198'}, {'impute_with': u'MEAN', 'feature': u'var_197'}, {'impute_with': u'MEAN', 'feature': u'var_196'}, {'impute_with': u'MEAN', 'feature': u'var_195'}, {'impute_with': u'MEAN', 'feature': u'var_194'}, {'impute_with': u'MEAN', 'feature': u'var_193'}, {'impute_with': u'MEAN', 'feature': u'var_192'}, {'impute_with': u'MEAN', 'feature': u'var_191'}, {'impute_with': u'MEAN', 'feature': u'var_190'}, {'impute_with': u'MEAN', 'feature': u'var_117'}, {'impute_with': u'MEAN', 'feature': u'var_116'}, {'impute_with': u'MEAN', 'feature': u'var_115'}, {'impute_with': u'MEAN', 'feature': u'var_114'}, {'impute_with': u'MEAN', 'feature': u'var_113'}, {'impute_with': u'MEAN', 'feature': u'var_112'}, {'impute_with': u'MEAN', 'feature': u'var_111'}, {'impute_with': u'MEAN', 'feature': u'var_110'}, {'impute_with': u'MEAN', 'feature': u'var_119'}, {'impute_with': u'MEAN', 'feature': u'var_118'}]\n",
    "\n",
    "# Features for which we drop rows with missing values\"\n",
    "for feature in drop_rows_when_missing:\n",
    "    train = train[train[feature].notnull()]\n",
    "    test = test[test[feature].notnull()]\n",
    "    print ('Dropped missing records in %s' % feature)\n",
    "\n",
    "# Features for which we impute missing values\"\n",
    "for feature in impute_when_missing:\n",
    "    if feature['impute_with'] == 'MEAN':\n",
    "        v = train[feature['feature']].mean()\n",
    "    elif feature['impute_with'] == 'MEDIAN':\n",
    "        v = train[feature['feature']].median()\n",
    "    elif feature['impute_with'] == 'CREATE_CATEGORY':\n",
    "        v = 'NULL_CATEGORY'\n",
    "    elif feature['impute_with'] == 'MODE':\n",
    "        v = train[feature['feature']].value_counts().index[0]\n",
    "    elif feature['impute_with'] == 'CONSTANT':\n",
    "        v = feature['value']\n",
    "    train[feature['feature']] = train[feature['feature']].fillna(v)\n",
    "    test[feature['feature']] = test[feature['feature']].fillna(v)\n",
    "    print ('Imputed missing values in feature %s with value %s' % (feature['feature'], coerce_to_unicode(v)))"
   ]
  },
  {
   "cell_type": "markdown",
   "metadata": {},
   "source": [
    "We can now handle the categorical features (still using the settings defined in Models):"
   ]
  },
  {
   "cell_type": "markdown",
   "metadata": {},
   "source": [
    "Let's rescale numerical features"
   ]
  },
  {
   "cell_type": "code",
   "execution_count": null,
   "metadata": {},
   "outputs": [],
   "source": [
    "rescale_features = {u'var_48': u'AVGSTD', u'var_49': u'AVGSTD', u'var_44': u'AVGSTD', u'var_45': u'AVGSTD', u'var_46': u'AVGSTD', u'var_47': u'AVGSTD', u'var_40': u'AVGSTD', u'var_41': u'AVGSTD', u'var_42': u'AVGSTD', u'var_43': u'AVGSTD', u'var_188': u'AVGSTD', u'var_189': u'AVGSTD', u'var_184': u'AVGSTD', u'var_185': u'AVGSTD', u'var_186': u'AVGSTD', u'var_187': u'AVGSTD', u'var_180': u'AVGSTD', u'var_181': u'AVGSTD', u'var_182': u'AVGSTD', u'var_183': u'AVGSTD', u'var_104': u'AVGSTD', u'var_105': u'AVGSTD', u'var_106': u'AVGSTD', u'var_107': u'AVGSTD', u'var_100': u'AVGSTD', u'var_101': u'AVGSTD', u'var_102': u'AVGSTD', u'var_103': u'AVGSTD', u'var_7': u'AVGSTD', u'var_6': u'AVGSTD', u'var_5': u'AVGSTD', u'var_4': u'AVGSTD', u'var_108': u'AVGSTD', u'var_109': u'AVGSTD', u'var_1': u'AVGSTD', u'var_0': u'AVGSTD', u'var_59': u'AVGSTD', u'var_58': u'AVGSTD', u'var_53': u'AVGSTD', u'var_52': u'AVGSTD', u'var_51': u'AVGSTD', u'var_50': u'AVGSTD', u'var_57': u'AVGSTD', u'var_56': u'AVGSTD', u'var_55': u'AVGSTD', u'var_54': u'AVGSTD', u'var_173': u'AVGSTD', u'var_172': u'AVGSTD', u'var_131': u'AVGSTD', u'var_130': u'AVGSTD', u'var_133': u'AVGSTD', u'var_132': u'AVGSTD', u'var_135': u'AVGSTD', u'var_134': u'AVGSTD', u'var_137': u'AVGSTD', u'var_136': u'AVGSTD', u'var_139': u'AVGSTD', u'var_138': u'AVGSTD', u'var_3': u'AVGSTD', u'var_179': u'AVGSTD', u'var_178': u'AVGSTD', u'var_28': u'AVGSTD', u'var_29': u'AVGSTD', u'var_26': u'AVGSTD', u'var_27': u'AVGSTD', u'var_24': u'AVGSTD', u'var_25': u'AVGSTD', u'var_22': u'AVGSTD', u'var_23': u'AVGSTD', u'var_20': u'AVGSTD', u'var_21': u'AVGSTD', u'var_128': u'AVGSTD', u'var_129': u'AVGSTD', u'var_126': u'AVGSTD', u'var_127': u'AVGSTD', u'var_124': u'AVGSTD', u'var_125': u'AVGSTD', u'var_122': u'AVGSTD', u'var_123': u'AVGSTD', u'var_120': u'AVGSTD', u'var_121': u'AVGSTD', u'var_39': u'AVGSTD', u'var_38': u'AVGSTD', u'var_35': u'AVGSTD', u'var_34': u'AVGSTD', u'var_37': u'AVGSTD', u'var_36': u'AVGSTD', u'var_31': u'AVGSTD', u'var_30': u'AVGSTD', u'var_33': u'AVGSTD', u'var_32': u'AVGSTD', u'var_159': u'AVGSTD', u'var_158': u'AVGSTD', u'var_153': u'AVGSTD', u'var_152': u'AVGSTD', u'var_151': u'AVGSTD', u'var_150': u'AVGSTD', u'var_157': u'AVGSTD', u'var_156': u'AVGSTD', u'var_155': u'AVGSTD', u'var_154': u'AVGSTD', u'var_80': u'AVGSTD', u'var_81': u'AVGSTD', u'var_82': u'AVGSTD', u'var_83': u'AVGSTD', u'var_84': u'AVGSTD', u'var_85': u'AVGSTD', u'var_86': u'AVGSTD', u'var_87': u'AVGSTD', u'var_88': u'AVGSTD', u'var_89': u'AVGSTD', u'var_148': u'AVGSTD', u'var_149': u'AVGSTD', u'var_140': u'AVGSTD', u'var_141': u'AVGSTD', u'var_142': u'AVGSTD', u'var_143': u'AVGSTD', u'var_144': u'AVGSTD', u'var_145': u'AVGSTD', u'var_146': u'AVGSTD', u'var_147': u'AVGSTD', u'var_17': u'AVGSTD', u'var_16': u'AVGSTD', u'var_15': u'AVGSTD', u'var_14': u'AVGSTD', u'var_13': u'AVGSTD', u'var_12': u'AVGSTD', u'var_11': u'AVGSTD', u'var_10': u'AVGSTD', u'var_8': u'AVGSTD', u'var_19': u'AVGSTD', u'var_18': u'AVGSTD', u'var_175': u'AVGSTD', u'var_174': u'AVGSTD', u'var_177': u'AVGSTD', u'var_176': u'AVGSTD', u'var_171': u'AVGSTD', u'var_170': u'AVGSTD', u'var_99': u'AVGSTD', u'var_98': u'AVGSTD', u'var_97': u'AVGSTD', u'var_96': u'AVGSTD', u'var_95': u'AVGSTD', u'var_94': u'AVGSTD', u'var_93': u'AVGSTD', u'var_92': u'AVGSTD', u'var_91': u'AVGSTD', u'var_90': u'AVGSTD', u'var_62': u'AVGSTD', u'var_63': u'AVGSTD', u'var_60': u'AVGSTD', u'var_61': u'AVGSTD', u'var_66': u'AVGSTD', u'var_67': u'AVGSTD', u'var_64': u'AVGSTD', u'var_65': u'AVGSTD', u'var_68': u'AVGSTD', u'var_69': u'AVGSTD', u'var_2': u'AVGSTD', u'var_162': u'AVGSTD', u'var_163': u'AVGSTD', u'var_160': u'AVGSTD', u'var_161': u'AVGSTD', u'var_166': u'AVGSTD', u'var_167': u'AVGSTD', u'var_164': u'AVGSTD', u'var_165': u'AVGSTD', u'var_168': u'AVGSTD', u'var_169': u'AVGSTD', u'var_71': u'AVGSTD', u'var_70': u'AVGSTD', u'var_73': u'AVGSTD', u'var_72': u'AVGSTD', u'var_75': u'AVGSTD', u'var_74': u'AVGSTD', u'var_77': u'AVGSTD', u'var_76': u'AVGSTD', u'var_79': u'AVGSTD', u'var_78': u'AVGSTD', u'var_9': u'AVGSTD', u'var_199': u'AVGSTD', u'var_198': u'AVGSTD', u'var_197': u'AVGSTD', u'var_196': u'AVGSTD', u'var_195': u'AVGSTD', u'var_194': u'AVGSTD', u'var_193': u'AVGSTD', u'var_192': u'AVGSTD', u'var_191': u'AVGSTD', u'var_190': u'AVGSTD', u'var_117': u'AVGSTD', u'var_116': u'AVGSTD', u'var_115': u'AVGSTD', u'var_114': u'AVGSTD', u'var_113': u'AVGSTD', u'var_112': u'AVGSTD', u'var_111': u'AVGSTD', u'var_110': u'AVGSTD', u'var_119': u'AVGSTD', u'var_118': u'AVGSTD'}\n",
    "for (feature_name, rescale_method) in rescale_features.items():\n",
    "    if rescale_method == 'MINMAX':\n",
    "        _min = train[feature_name].min()\n",
    "        _max = train[feature_name].max()\n",
    "        scale = _max - _min\n",
    "        shift = _min\n",
    "    else:\n",
    "        shift = train[feature_name].mean()\n",
    "        scale = train[feature_name].std()\n",
    "    if scale == 0.:\n",
    "        del train[feature_name]\n",
    "        del test[feature_name]\n",
    "        print ('Feature %s was dropped because it has no variance' % feature_name)\n",
    "    else:\n",
    "        print ('Rescaled %s' % feature_name)\n",
    "        train[feature_name] = (train[feature_name] - shift).astype(np.float64) / scale\n",
    "        test[feature_name] = (test[feature_name] - shift).astype(np.float64) / scale"
   ]
  },
  {
   "cell_type": "markdown",
   "metadata": {},
   "source": [
    "#### Modeling"
   ]
  },
  {
   "cell_type": "markdown",
   "metadata": {},
   "source": [
    "Before actually creating our model, we need to split the datasets into their features and labels parts:"
   ]
  },
  {
   "cell_type": "code",
   "execution_count": null,
   "metadata": {},
   "outputs": [],
   "source": [
    "train_X = train.drop('__target__', axis=1)\n",
    "test_X = test.drop('__target__', axis=1)\n",
    "\n",
    "train_Y = np.array(train['__target__'])\n",
    "test_Y = np.array(test['__target__'])"
   ]
  },
  {
   "cell_type": "markdown",
   "metadata": {},
   "source": [
    "Now we can finally create our model !"
   ]
  },
  {
   "cell_type": "code",
   "execution_count": null,
   "metadata": {},
   "outputs": [],
   "source": [
    "from sklearn.linear_model import SGDClassifier\n",
    "clf= SGDClassifier(alpha=0.001,\n",
    "    l1_ratio=0.15,\n",
    "    loss='log',\n",
    "    penalty='l1',\n",
    "    shuffle=True,\n",
    "    n_iter = 5,\n",
    "    n_jobs=2)"
   ]
  },
  {
   "cell_type": "markdown",
   "metadata": {},
   "source": [
    "... And train it"
   ]
  },
  {
   "cell_type": "code",
   "execution_count": null,
   "metadata": {},
   "outputs": [],
   "source": [
    "%time clf.fit(train_X, train_Y)"
   ]
  },
  {
   "cell_type": "markdown",
   "metadata": {},
   "source": [
    "Build up our result dataset"
   ]
  },
  {
   "cell_type": "markdown",
   "metadata": {},
   "source": [
    "The model is now trained, we can apply it to our test set:"
   ]
  },
  {
   "cell_type": "code",
   "execution_count": null,
   "metadata": {},
   "outputs": [],
   "source": [
    "%time _predictions = clf.predict(test_X)\n",
    "%time _probas = clf.predict_proba(test_X)\n",
    "predictions = pd.Series(data=_predictions, index=test_X.index, name='predicted_value')\n",
    "cols = [\n",
    "    u'probability_of_value_%s' % label\n",
    "    for (_, label) in sorted([(int(target_map[label]), label) for label in target_map])\n",
    "]\n",
    "probabilities = pd.DataFrame(data=_probas, index=test_X.index, columns=cols)\n",
    "\n",
    "# Build scored dataset\n",
    "results_test = test_X.join(predictions, how='left')\n",
    "results_test = results_test.join(probabilities, how='left')\n",
    "results_test = results_test.join(test['__target__'], how='left')\n",
    "results_test = results_test.rename(columns= {'__target__': 'target'})"
   ]
  },
  {
   "cell_type": "markdown",
   "metadata": {},
   "source": [
    "#### Results"
   ]
  },
  {
   "cell_type": "markdown",
   "metadata": {},
   "source": [
    "You can measure the model's accuracy:"
   ]
  },
  {
   "cell_type": "code",
   "execution_count": null,
   "metadata": {},
   "outputs": [],
   "source": [
    "from dataiku.doctor.utils.metrics import mroc_auc_score\n",
    "test_Y_ser = pd.Series(test_Y)\n",
    "print ('AUC value:', mroc_auc_score(test_Y_ser, _probas))"
   ]
  },
  {
   "cell_type": "markdown",
   "metadata": {},
   "source": [
    "We can also view the predictions directly.\n",
    "Since scikit-learn only predicts numericals, the labels have been mapped to 0,1,2 ...\n",
    "We need to 'reverse' the mapping to display the initial labels."
   ]
  },
  {
   "cell_type": "code",
   "execution_count": null,
   "metadata": {},
   "outputs": [],
   "source": [
    "inv_map = { target_map[label] : label for label in target_map}\n",
    "predictions.map(inv_map)"
   ]
  },
  {
   "cell_type": "markdown",
   "metadata": {},
   "source": [
    "That's it. It's now up to you to tune your preprocessing, your algo, and your analysis !\n"
   ]
  }
 ],
 "metadata": {
  "kernelspec": {
   "display_name": "Python 2",
   "language": "python",
   "name": "python2"
  },
  "language_info": {
   "codemirror_mode": {
    "name": "ipython",
    "version": 2
   },
   "file_extension": ".py",
   "mimetype": "text/x-python",
   "name": "python",
   "nbconvert_exporter": "python",
   "pygments_lexer": "ipython2",
   "version": "2.7.16"
  },
  "name": "Predicting target in train"
 },
 "nbformat": 4,
 "nbformat_minor": 1
}
